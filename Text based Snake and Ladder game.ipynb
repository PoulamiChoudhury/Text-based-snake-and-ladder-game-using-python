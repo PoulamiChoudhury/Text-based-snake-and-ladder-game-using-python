{
 "cells": [
  {
   "cell_type": "markdown",
   "metadata": {},
   "source": [
    "#                               Text Based Snake and Ladder Game"
   ]
  },
  {
   "cell_type": "markdown",
   "metadata": {},
   "source": [
    "**HRC Assignment 1**\n",
    "\n",
    "**CODE BY-Poulami Choudhury**\n",
    "\n",
    "**ROLL-1806044**\n",
    " \n",
    "**HOUSE-Joker**\n",
    "\n",
    "Email-poulami1610@gmail.com"
   ]
  },
  {
   "cell_type": "code",
   "execution_count": 1,
   "metadata": {},
   "outputs": [],
   "source": [
    "#Importing random module\n",
    "import random"
   ]
  },
  {
   "cell_type": "code",
   "execution_count": 2,
   "metadata": {},
   "outputs": [],
   "source": [
    "#Generating a random number when the dice is rolled \n",
    "def Roll_dice():\n",
    "    return random.randint(1,6)"
   ]
  },
  {
   "cell_type": "code",
   "execution_count": 3,
   "metadata": {},
   "outputs": [],
   "source": [
    "#This function works while the user gives a manual input\n",
    "def Move1(Player, value,m, P1, P2):\n",
    "    snake_squares = {17 : 7, 54 : 34, 62 : 19, 98 : 79}\n",
    "    ladder_squares = {3 : 38, 24 : 33, 42 : 93, 72 : 84}\n",
    "    if m>0 and m<21:\n",
    "        Throw=m\n",
    "    else:\n",
    "        Throw = Roll_dice() #Random number generated as m fails to satisfy game condition\n",
    "    if Player == 1:\n",
    "        num = value + Throw\n",
    "        if  num<=100:\n",
    "            print(P1, \"rolled a\", Throw, \"and is now on\", num)\n",
    "        else:\n",
    "            num=value\n",
    "            print(P1, \"rolled a\", Throw, \"which is NOT VALID and is now on square\", num)#if the number exceeds 100 then the move will not be counted\n",
    "    if Player == 2:\n",
    "        num = value + Throw\n",
    "        if num<=100:\n",
    "            print(P2, \"rolled a\", Throw, \"and is now on\", num)\n",
    "        else:\n",
    "            num=value\n",
    "            print(P2, \"rolled a\", Throw, \"which is NOT VALID and is now on square\", num)\n",
    "    if num in snake_squares:\n",
    "        print(\"Oops! Player got bitten by a snake and is now on square\", snake_squares[num])#If the number is in snake square\n",
    "        num = snake_squares[num]\n",
    "    elif num in ladder_squares:\n",
    "        print(\"Yeay! Player Climbed a ladder and is now on square\", ladder_squares[num])#If the number is in ladder square\n",
    "        num = ladder_squares[num]\n",
    "    else:\n",
    "        print(\"\",end = \"\")\n",
    "    return num"
   ]
  },
  {
   "cell_type": "code",
   "execution_count": 4,
   "metadata": {},
   "outputs": [],
   "source": [
    "#Function definition for \"roll\" as an input by the player\n",
    "def Move2(Player, value, P1, P2):\n",
    "    snake_squares ={17 : 7, 54 : 34, 62 : 19, 98 : 79}\n",
    "    ladder_squares = {3 : 38, 24 : 33, 42 : 93, 72 : 84}\n",
    "    Throw = Roll_dice()#random number is generated as input\n",
    "    if Player == 1:\n",
    "        num = value + Throw\n",
    "        if  num<=100:\n",
    "            print(P1, \"rolled a\", Throw, \"and is now on\", num)\n",
    "        else:\n",
    "            num=value\n",
    "            print(P1, \"rolled a\", Throw, \"which is NOT VALID and is now on square\", num)#if the number exceeds 100 then the move will not be counted\n",
    "    if Player == 2:\n",
    "        num = value + Throw\n",
    "        if num<=100:\n",
    "            print(P2, \"rolled a\", Throw, \"and is now on\", num)\n",
    "        else:\n",
    "            num=value\n",
    "            print(P2, \"rolled a\", Throw, \"which is NOT VALID and is now on square\", num)\n",
    "    if num in snake_squares:\n",
    "        print(\"Oops! Player got bitten by a snake and is now on square\", snake_squares[num])#If the number is in snake square\n",
    "        num = snake_squares[num]\n",
    "    elif num in ladder_squares:\n",
    "        print(\"Yeay! Player Climbed a ladder and is now on square\", ladder_squares[num])#If the number is in ladder square\n",
    "        num = ladder_squares[num]\n",
    "    else:\n",
    "        print(\"\",end = \"\")\n",
    "    return num\n"
   ]
  },
  {
   "cell_type": "code",
   "execution_count": 5,
   "metadata": {},
   "outputs": [],
   "source": [
    "#Defined a function that sets up the number of player\n",
    "def Setup_Players():\n",
    "    players=3\n",
    "    while True:\n",
    "        try:\n",
    "            print(\"Enter the number of players: \")\n",
    "            players = int(input())\n",
    "            if players > 2 or players < 2:\n",
    "                print(\"Sorry! Only 2 players are allowed :(\")\n",
    "            else:\n",
    "                return players\n",
    "        except:\n",
    "            print(\"Must be a number\")#An exception will be caught in case the input is not as integer number"
   ]
  },
  {
   "cell_type": "code",
   "execution_count": 6,
   "metadata": {},
   "outputs": [],
   "source": [
    "#For enterned number of players the name would be asked and stored by this function\n",
    "def Player_Names(NumP):\n",
    "    Names = []#an empty list is created \n",
    "    for i in range(1,NumP+1):\n",
    "        Names.append(input(\"Enter the name of Player \"+str(i)+\": \"))#the list Names stores the player names\n",
    "    Names.append(\"\")\n",
    "    return Names"
   ]
  },
  {
   "cell_type": "code",
   "execution_count": 7,
   "metadata": {},
   "outputs": [],
   "source": [
    "#Function to display a welcome message and game rules\n",
    "def welcome_msg():\n",
    "    msg = \"\"\"\n",
    "   ########### WELCOME TO THE GAME OF SNAKE AND LADDER  ###########\n",
    "                                                    \n",
    "                                                     Game by: Poulami Choudhury\n",
    "      RULES OF THE GAME:\n",
    "\n",
    "      1. Initally both the players are at starting position i.e. 0. \n",
    "         Take it in turns to roll the dice MANUALLY or AUTOMATICALLY \n",
    "         Move forward the number of spaces shown on the dice.\n",
    "      2. If you lands at the bottom of a ladder, you can move up to the top of the ladder.\n",
    "      3. If you lands on the head of a snake, you must slide down to the bottom of the snake.\n",
    "      4. The first player to get to the FINAL position is the winner.\n",
    "      5. Type 'roll' to roll the dice automatically.\n",
    "      6. Input any number bertween 1-20 for playing game manually.\n",
    "      7.NOTE THAT if the manual input exceeds the limit or is below the limit\n",
    "      the dice is automatically rolled.\n",
    "      8.If you want to quit the game type 'quit'.\n",
    "      9.If you QUIT opponent WINS!\n",
    " ######################################################\n",
    "\"\"\"\n",
    "    print(msg)\n"
   ]
  },
  {
   "cell_type": "code",
   "execution_count": 8,
   "metadata": {},
   "outputs": [
    {
     "name": "stdout",
     "output_type": "stream",
     "text": [
      "\n",
      "   ########### WELCOME TO THE GAME OF SNAKE AND LADDER  ###########\n",
      "                                                    \n",
      "                                                     Game by: Poulami Choudhury\n",
      "      RULES OF THE GAME:\n",
      "\n",
      "      1. Initally both the players are at starting position i.e. 0. \n",
      "         Take it in turns to roll the dice MANUALLY or AUTOMATICALLY \n",
      "         Move forward the number of spaces shown on the dice.\n",
      "      2. If you lands at the bottom of a ladder, you can move up to the top of the ladder.\n",
      "      3. If you lands on the head of a snake, you must slide down to the bottom of the snake.\n",
      "      4. The first player to get to the FINAL position is the winner.\n",
      "      5. Type 'roll' to roll the dice automatically.\n",
      "      6. Input any number bertween 1-20 for playing game manually.\n",
      "      7.NOTE THAT if the manual input exceeds the limit or is below the limit\n",
      "      the dice is automatically rolled.\n",
      "      8.If you want to quit the game type 'quit'.\n",
      "      9.If you QUIT opponent WINS!\n",
      " ######################################################\n",
      "\n",
      "Enter the number of players: \n",
      "2\n",
      "Enter the name of Player 1: p\n",
      "Enter the name of Player 2: l\n",
      "p  and  l , Lets get started!!\n",
      "Turn for p : quit\n"
     ]
    },
    {
     "ename": "SystemExit",
     "evalue": "As you QUIT l Won the game \n  ################GAME SUCCESSFULLY FINISHED######################",
     "output_type": "error",
     "traceback": [
      "An exception has occurred, use %tb to see the full traceback.\n",
      "\u001b[1;31mSystemExit\u001b[0m\u001b[1;31m:\u001b[0m As you QUIT l Won the game \n  ################GAME SUCCESSFULLY FINISHED######################\n"
     ]
    },
    {
     "name": "stderr",
     "output_type": "stream",
     "text": [
      "C:\\Users\\KIIT\\Anaconda3\\lib\\site-packages\\IPython\\core\\interactiveshell.py:3304: UserWarning: To exit: use 'exit', 'quit', or Ctrl-D.\n",
      "  warn(\"To exit: use 'exit', 'quit', or Ctrl-D.\", stacklevel=1)\n"
     ]
    }
   ],
   "source": [
    "import sys\n",
    "#Main function of the game\n",
    "welcome_msg()\n",
    "Num_Players=Setup_Players()\n",
    "P_Names = Player_Names(Num_Players)\n",
    "P1 = 0\n",
    "P2 = 0\n",
    "for i in P_Names:\n",
    "    if P1 == 0:\n",
    "        P1 = i\n",
    "        if Num_Players == 1:\n",
    "            P2 = \"\"\n",
    "            break\n",
    "    elif P2 == 0:\n",
    "        P2 = i\n",
    "    else:\n",
    "        break#P1 and P2 gets initialized with the player names\n",
    "print(P1, \" and \",P2,  \", Lets get started!!\")\n",
    "Num1 = 0\n",
    "Num2 = 0\n",
    "x = 0\n",
    "while Num1 < 100 and Num2 < 100 :       \n",
    "    while x < Num_Players:\n",
    "        x=x+1\n",
    "        if x == 1:\n",
    "            j= input(f\"Turn for {P1} : \")\n",
    "            if j==\"roll\":\n",
    "                Num1 = Move2(1, Num1, P1, P2)\n",
    "            elif j==\"quit\":#If player types quit the game immediately comes to an end.\n",
    "                  sys.exit(f\"As you QUIT {P2} Won the game \\n  ################GAME SUCCESSFULLY FINISHED######################\")\n",
    "            else:\n",
    "                t=int(j)\n",
    "                Num1 = Move1(1, Num1,t, P1, P2)\n",
    "            if Num1 ==100:\n",
    "                print(\"!!!CONGRATULATIONS!!!\",P1, \"WINS!\")\n",
    "                print(\"################GAME SUCCESSFULLY FINISHED######################\")\n",
    "                break\n",
    "        if x == 2:\n",
    "            k=input(f\"Turn for {P2} : \")\n",
    "            if k==\"roll\":\n",
    "                Num2 = Move2(2, Num2, P1, P2)\n",
    "            elif k==\"quit\":#If player types quit the game immediately comes to an end.\n",
    "                sys.exit(f\"AS you QUIT {P1} Won the game \\n  ################GAME SUCCESSFULLY FINISHED######################\")\n",
    "            else:\n",
    "                t=int(k)\n",
    "                Num2 = Move1(2, Num2,t, P1, P2)\n",
    "            if Num2 ==100:\n",
    "                print(\"!!!CONGRATULATIONS!!!\",P2, \"WINS!\")\n",
    "                print(\"################GAME SUCCESSFULLY FINISHED######################\")\n",
    "                exit()           \n",
    "       \n",
    "    x=0"
   ]
  },
  {
   "cell_type": "code",
   "execution_count": null,
   "metadata": {},
   "outputs": [],
   "source": []
  }
 ],
 "metadata": {
  "kernelspec": {
   "display_name": "Python 3",
   "language": "python",
   "name": "python3"
  },
  "language_info": {
   "codemirror_mode": {
    "name": "ipython",
    "version": 3
   },
   "file_extension": ".py",
   "mimetype": "text/x-python",
   "name": "python",
   "nbconvert_exporter": "python",
   "pygments_lexer": "ipython3",
   "version": "3.7.3"
  }
 },
 "nbformat": 4,
 "nbformat_minor": 2
}
